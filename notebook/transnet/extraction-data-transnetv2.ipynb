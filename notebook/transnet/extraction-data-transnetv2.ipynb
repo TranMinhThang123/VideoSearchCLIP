{
 "cells": [
  {
   "cell_type": "code",
   "execution_count": 1,
   "id": "26a9b9d5",
   "metadata": {
    "_cell_guid": "b1076dfc-b9ad-4769-8c92-a6c4dae69d19",
    "_uuid": "8f2839f25d086af736a60e9eeb907d3b93b6e0e5",
    "execution": {
     "iopub.execute_input": "2024-03-22T07:54:23.367742Z",
     "iopub.status.busy": "2024-03-22T07:54:23.367073Z",
     "iopub.status.idle": "2024-03-22T07:54:39.333851Z",
     "shell.execute_reply": "2024-03-22T07:54:39.332574Z"
    },
    "papermill": {
     "duration": 15.972435,
     "end_time": "2024-03-22T07:54:39.335887",
     "exception": false,
     "start_time": "2024-03-22T07:54:23.363452",
     "status": "completed"
    },
    "tags": []
   },
   "outputs": [
    {
     "name": "stdout",
     "output_type": "stream",
     "text": [
      "Collecting ffmpeg-python\r\n",
      "  Downloading ffmpeg_python-0.2.0-py3-none-any.whl.metadata (1.7 kB)\r\n",
      "Requirement already satisfied: pillow in /opt/conda/lib/python3.10/site-packages (9.5.0)\r\n",
      "Requirement already satisfied: future in /opt/conda/lib/python3.10/site-packages (from ffmpeg-python) (1.0.0)\r\n",
      "Downloading ffmpeg_python-0.2.0-py3-none-any.whl (25 kB)\r\n",
      "Installing collected packages: ffmpeg-python\r\n",
      "Successfully installed ffmpeg-python-0.2.0\r\n",
      "Cloning into 'TransNetV2'...\r\n",
      "remote: Enumerating objects: 362, done.\u001b[K\r\n",
      "remote: Counting objects: 100% (7/7), done.\u001b[K\r\n",
      "remote: Compressing objects: 100% (3/3), done.\u001b[K\r\n",
      "remote: Total 362 (delta 4), reused 4 (delta 4), pack-reused 355\u001b[K\r\n",
      "Receiving objects: 100% (362/362), 98.15 KiB | 5.17 MiB/s, done.\r\n",
      "Resolving deltas: 100% (210/210), done.\r\n",
      "/kaggle/working/TransNetV2/inference\n"
     ]
    }
   ],
   "source": [
    "!pip install ffmpeg-python pillow\n",
    "!git clone https://github.com/soCzech/TransNetV2.git\n",
    "%cd TransNetV2/inference"
   ]
  },
  {
   "cell_type": "code",
   "execution_count": 2,
   "id": "abf44e50",
   "metadata": {
    "execution": {
     "iopub.execute_input": "2024-03-22T07:54:39.343547Z",
     "iopub.status.busy": "2024-03-22T07:54:39.343229Z",
     "iopub.status.idle": "2024-03-22T07:54:55.195970Z",
     "shell.execute_reply": "2024-03-22T07:54:55.195158Z"
    },
    "papermill": {
     "duration": 15.859158,
     "end_time": "2024-03-22T07:54:55.198300",
     "exception": false,
     "start_time": "2024-03-22T07:54:39.339142",
     "status": "completed"
    },
    "tags": []
   },
   "outputs": [
    {
     "name": "stderr",
     "output_type": "stream",
     "text": [
      "2024-03-22 07:54:44.961359: E external/local_xla/xla/stream_executor/cuda/cuda_dnn.cc:9261] Unable to register cuDNN factory: Attempting to register factory for plugin cuDNN when one has already been registered\n",
      "2024-03-22 07:54:44.961463: E external/local_xla/xla/stream_executor/cuda/cuda_fft.cc:607] Unable to register cuFFT factory: Attempting to register factory for plugin cuFFT when one has already been registered\n",
      "2024-03-22 07:54:45.091901: E external/local_xla/xla/stream_executor/cuda/cuda_blas.cc:1515] Unable to register cuBLAS factory: Attempting to register factory for plugin cuBLAS when one has already been registered\n"
     ]
    }
   ],
   "source": [
    "import os\n",
    "import cv2\n",
    "import json\n",
    "import glob\n",
    "import ffmpeg\n",
    "import torch\n",
    "import numpy as np\n",
    "from tqdm import tqdm\n",
    "from transnetv2 import TransNetV2"
   ]
  },
  {
   "cell_type": "code",
   "execution_count": 3,
   "id": "aee3b589",
   "metadata": {
    "execution": {
     "iopub.execute_input": "2024-03-22T07:54:55.206998Z",
     "iopub.status.busy": "2024-03-22T07:54:55.205807Z",
     "iopub.status.idle": "2024-03-22T07:54:55.931402Z",
     "shell.execute_reply": "2024-03-22T07:54:55.930392Z"
    },
    "papermill": {
     "duration": 0.732242,
     "end_time": "2024-03-22T07:54:55.933901",
     "exception": false,
     "start_time": "2024-03-22T07:54:55.201659",
     "status": "completed"
    },
    "tags": []
   },
   "outputs": [],
   "source": [
    "videos_dir = '/kaggle/input/aic-videob3-2'\n",
    "all_video_paths = dict()\n",
    "for part in sorted(os.listdir(videos_dir)):\n",
    "    data_part = part.split('_')[-1] # L01, L02 for ex\n",
    "    all_video_paths[data_part] =  dict()\n",
    "    \n",
    "del all_video_paths['L32']\n",
    "del all_video_paths['L33']\n",
    "\n",
    "for data_part in sorted(all_video_paths.keys()):\n",
    "    data_part_path = f'{videos_dir}/Videos_{data_part}/video'\n",
    "    video_paths = sorted(os.listdir(data_part_path))\n",
    "    video_ids = [video_path.replace('.mp4', '').split('_')[-1] for video_path in video_paths]\n",
    "    for video_id, video_path in zip(video_ids, video_paths):\n",
    "        video_path_full = f'{data_part_path}/{video_path}'\n",
    "        all_video_paths[data_part][video_id] = video_path_full"
   ]
  },
  {
   "cell_type": "code",
   "execution_count": 4,
   "id": "1cdb43ba",
   "metadata": {
    "execution": {
     "iopub.execute_input": "2024-03-22T07:54:55.942179Z",
     "iopub.status.busy": "2024-03-22T07:54:55.941467Z",
     "iopub.status.idle": "2024-03-22T09:22:54.744720Z",
     "shell.execute_reply": "2024-03-22T09:22:54.743711Z"
    },
    "papermill": {
     "duration": 5278.810461,
     "end_time": "2024-03-22T09:22:54.747835",
     "exception": false,
     "start_time": "2024-03-22T07:54:55.937374",
     "status": "completed"
    },
    "tags": []
   },
   "outputs": [
    {
     "name": "stdout",
     "output_type": "stream",
     "text": [
      "[TransNetV2] Using weights from /kaggle/working/TransNetV2/inference/transnetv2-weights/.\n"
     ]
    },
    {
     "name": "stderr",
     "output_type": "stream",
     "text": [
      "  0%|          | 0/3 [00:00<?, ?it/s]\n",
      "  0%|          | 0/30 [00:00<?, ?it/s]\u001b[A"
     ]
    },
    {
     "name": "stdout",
     "output_type": "stream",
     "text": [
      "[TransNetV2] Extracting frames from /kaggle/input/aic-videob3-2/Videos_L34/video/L34_V001.mp4\n",
      "[TransNetV2] Processing video frames 40431/40431\n"
     ]
    },
    {
     "name": "stderr",
     "output_type": "stream",
     "text": [
      "\n",
      "  3%|▎         | 1/30 [01:30<43:56, 90.90s/it]\u001b[A"
     ]
    },
    {
     "name": "stdout",
     "output_type": "stream",
     "text": [
      "[TransNetV2] Extracting frames from /kaggle/input/aic-videob3-2/Videos_L34/video/L34_V002.mp4\n",
      "[TransNetV2] Processing video frames 42600/42600\n"
     ]
    },
    {
     "name": "stderr",
     "output_type": "stream",
     "text": [
      "\n",
      "  7%|▋         | 2/30 [03:00<41:58, 89.95s/it]\u001b[A"
     ]
    },
    {
     "name": "stdout",
     "output_type": "stream",
     "text": [
      "[TransNetV2] Extracting frames from /kaggle/input/aic-videob3-2/Videos_L34/video/L34_V003.mp4\n",
      "[TransNetV2] Processing video frames 27534/27534\n"
     ]
    },
    {
     "name": "stderr",
     "output_type": "stream",
     "text": [
      "\n",
      " 10%|█         | 3/30 [04:00<34:21, 76.34s/it]\u001b[A"
     ]
    },
    {
     "name": "stdout",
     "output_type": "stream",
     "text": [
      "[TransNetV2] Extracting frames from /kaggle/input/aic-videob3-2/Videos_L34/video/L34_V004.mp4\n",
      "[TransNetV2] Processing video frames 29607/29607\n"
     ]
    },
    {
     "name": "stderr",
     "output_type": "stream",
     "text": [
      "\n",
      " 13%|█▎        | 4/30 [05:06<31:21, 72.35s/it]\u001b[A"
     ]
    },
    {
     "name": "stdout",
     "output_type": "stream",
     "text": [
      "[TransNetV2] Extracting frames from /kaggle/input/aic-videob3-2/Videos_L34/video/L34_V005.mp4\n",
      "[TransNetV2] Processing video frames 20650/20680"
     ]
    },
    {
     "name": "stderr",
     "output_type": "stream",
     "text": [
      "\n",
      " 17%|█▋        | 5/30 [05:49<25:42, 61.70s/it]\u001b[A"
     ]
    },
    {
     "name": "stdout",
     "output_type": "stream",
     "text": [
      "[TransNetV2] Processing video frames 20680/20680\n",
      "[TransNetV2] Extracting frames from /kaggle/input/aic-videob3-2/Videos_L34/video/L34_V006.mp4\n",
      "[TransNetV2] Processing video frames 23373/23373\n"
     ]
    },
    {
     "name": "stderr",
     "output_type": "stream",
     "text": [
      "\n",
      " 20%|██        | 6/30 [06:36<22:40, 56.67s/it]\u001b[A"
     ]
    },
    {
     "name": "stdout",
     "output_type": "stream",
     "text": [
      "[TransNetV2] Extracting frames from /kaggle/input/aic-videob3-2/Videos_L34/video/L34_V007.mp4\n",
      "[TransNetV2] Processing video frames 31316/31316\n"
     ]
    },
    {
     "name": "stderr",
     "output_type": "stream",
     "text": [
      "\n",
      " 23%|██▎       | 7/30 [07:39<22:29, 58.66s/it]\u001b[A"
     ]
    },
    {
     "name": "stdout",
     "output_type": "stream",
     "text": [
      "[TransNetV2] Extracting frames from /kaggle/input/aic-videob3-2/Videos_L34/video/L34_V008.mp4\n",
      "[TransNetV2] Processing video frames 30318/30318\n"
     ]
    },
    {
     "name": "stderr",
     "output_type": "stream",
     "text": [
      "\n",
      " 27%|██▋       | 8/30 [08:39<21:42, 59.19s/it]\u001b[A"
     ]
    },
    {
     "name": "stdout",
     "output_type": "stream",
     "text": [
      "[TransNetV2] Extracting frames from /kaggle/input/aic-videob3-2/Videos_L34/video/L34_V009.mp4\n",
      "[TransNetV2] Processing video frames 27129/27129\n"
     ]
    },
    {
     "name": "stderr",
     "output_type": "stream",
     "text": [
      "\n",
      " 30%|███       | 9/30 [09:40<20:54, 59.74s/it]\u001b[A"
     ]
    },
    {
     "name": "stdout",
     "output_type": "stream",
     "text": [
      "[TransNetV2] Extracting frames from /kaggle/input/aic-videob3-2/Videos_L34/video/L34_V010.mp4\n",
      "[TransNetV2] Processing video frames 30749/30749\n"
     ]
    },
    {
     "name": "stderr",
     "output_type": "stream",
     "text": [
      "\n",
      " 33%|███▎      | 10/30 [10:43<20:17, 60.85s/it]\u001b[A"
     ]
    },
    {
     "name": "stdout",
     "output_type": "stream",
     "text": [
      "[TransNetV2] Extracting frames from /kaggle/input/aic-videob3-2/Videos_L34/video/L34_V011.mp4\n",
      "[TransNetV2] Processing video frames 23346/23346\n"
     ]
    },
    {
     "name": "stderr",
     "output_type": "stream",
     "text": [
      "\n",
      " 37%|███▋      | 11/30 [11:31<17:58, 56.74s/it]\u001b[A"
     ]
    },
    {
     "name": "stdout",
     "output_type": "stream",
     "text": [
      "[TransNetV2] Extracting frames from /kaggle/input/aic-videob3-2/Videos_L34/video/L34_V012.mp4\n",
      "[TransNetV2] Processing video frames 24013/24013\n"
     ]
    },
    {
     "name": "stderr",
     "output_type": "stream",
     "text": [
      "\n",
      " 40%|████      | 12/30 [12:20<16:19, 54.42s/it]\u001b[A"
     ]
    },
    {
     "name": "stdout",
     "output_type": "stream",
     "text": [
      "[TransNetV2] Extracting frames from /kaggle/input/aic-videob3-2/Videos_L34/video/L34_V013.mp4\n",
      "[TransNetV2] Processing video frames 24764/24764\n"
     ]
    },
    {
     "name": "stderr",
     "output_type": "stream",
     "text": [
      "\n",
      " 43%|████▎     | 13/30 [13:10<15:02, 53.08s/it]\u001b[A"
     ]
    },
    {
     "name": "stdout",
     "output_type": "stream",
     "text": [
      "[TransNetV2] Extracting frames from /kaggle/input/aic-videob3-2/Videos_L34/video/L34_V014.mp4\n",
      "[TransNetV2] Processing video frames 27199/27199\n"
     ]
    },
    {
     "name": "stderr",
     "output_type": "stream",
     "text": [
      "\n",
      " 47%|████▋     | 14/30 [14:03<14:09, 53.09s/it]\u001b[A"
     ]
    },
    {
     "name": "stdout",
     "output_type": "stream",
     "text": [
      "[TransNetV2] Extracting frames from /kaggle/input/aic-videob3-2/Videos_L34/video/L34_V015.mp4\n",
      "[TransNetV2] Processing video frames 29528/29528\n"
     ]
    },
    {
     "name": "stderr",
     "output_type": "stream",
     "text": [
      "\n",
      " 50%|█████     | 15/30 [15:09<14:14, 56.99s/it]\u001b[A"
     ]
    },
    {
     "name": "stdout",
     "output_type": "stream",
     "text": [
      "[TransNetV2] Extracting frames from /kaggle/input/aic-videob3-2/Videos_L34/video/L34_V016.mp4\n",
      "[TransNetV2] Processing video frames 31103/31103\n"
     ]
    },
    {
     "name": "stderr",
     "output_type": "stream",
     "text": [
      "\n",
      " 53%|█████▎    | 16/30 [16:20<14:18, 61.29s/it]\u001b[A"
     ]
    },
    {
     "name": "stdout",
     "output_type": "stream",
     "text": [
      "[TransNetV2] Extracting frames from /kaggle/input/aic-videob3-2/Videos_L34/video/L34_V017.mp4\n",
      "[TransNetV2] Processing video frames 28752/28752\n"
     ]
    },
    {
     "name": "stderr",
     "output_type": "stream",
     "text": [
      "\n",
      " 57%|█████▋    | 17/30 [17:27<13:37, 62.86s/it]\u001b[A"
     ]
    },
    {
     "name": "stdout",
     "output_type": "stream",
     "text": [
      "[TransNetV2] Extracting frames from /kaggle/input/aic-videob3-2/Videos_L34/video/L34_V018.mp4\n",
      "[TransNetV2] Processing video frames 24995/24995\n"
     ]
    },
    {
     "name": "stderr",
     "output_type": "stream",
     "text": [
      "\n",
      " 60%|██████    | 18/30 [18:17<11:47, 58.99s/it]\u001b[A"
     ]
    },
    {
     "name": "stdout",
     "output_type": "stream",
     "text": [
      "[TransNetV2] Extracting frames from /kaggle/input/aic-videob3-2/Videos_L34/video/L34_V019.mp4\n",
      "[TransNetV2] Processing video frames 30096/30096\n"
     ]
    },
    {
     "name": "stderr",
     "output_type": "stream",
     "text": [
      "\n",
      " 63%|██████▎   | 19/30 [19:25<11:20, 61.86s/it]\u001b[A"
     ]
    },
    {
     "name": "stdout",
     "output_type": "stream",
     "text": [
      "[TransNetV2] Extracting frames from /kaggle/input/aic-videob3-2/Videos_L34/video/L34_V020.mp4\n",
      "[TransNetV2] Processing video frames 22892/22892\n"
     ]
    },
    {
     "name": "stderr",
     "output_type": "stream",
     "text": [
      "\n",
      " 67%|██████▋   | 20/30 [20:12<09:32, 57.25s/it]\u001b[A"
     ]
    },
    {
     "name": "stdout",
     "output_type": "stream",
     "text": [
      "[TransNetV2] Extracting frames from /kaggle/input/aic-videob3-2/Videos_L34/video/L34_V021.mp4\n",
      "[TransNetV2] Processing video frames 32856/32856\n"
     ]
    },
    {
     "name": "stderr",
     "output_type": "stream",
     "text": [
      "\n",
      " 70%|███████   | 21/30 [21:23<09:14, 61.58s/it]\u001b[A"
     ]
    },
    {
     "name": "stdout",
     "output_type": "stream",
     "text": [
      "[TransNetV2] Extracting frames from /kaggle/input/aic-videob3-2/Videos_L34/video/L34_V022.mp4\n",
      "[TransNetV2] Processing video frames 27846/27846\n"
     ]
    },
    {
     "name": "stderr",
     "output_type": "stream",
     "text": [
      "\n",
      " 73%|███████▎  | 22/30 [22:27<08:17, 62.17s/it]\u001b[A"
     ]
    },
    {
     "name": "stdout",
     "output_type": "stream",
     "text": [
      "[TransNetV2] Extracting frames from /kaggle/input/aic-videob3-2/Videos_L34/video/L34_V023.mp4\n",
      "[TransNetV2] Processing video frames 26006/26006\n"
     ]
    },
    {
     "name": "stderr",
     "output_type": "stream",
     "text": [
      "\n",
      " 77%|███████▋  | 23/30 [23:22<07:00, 60.00s/it]\u001b[A"
     ]
    },
    {
     "name": "stdout",
     "output_type": "stream",
     "text": [
      "[TransNetV2] Extracting frames from /kaggle/input/aic-videob3-2/Videos_L34/video/L34_V025.mp4\n",
      "[TransNetV2] Processing video frames 30296/30296\n"
     ]
    },
    {
     "name": "stderr",
     "output_type": "stream",
     "text": [
      "\n",
      " 80%|████████  | 24/30 [24:30<06:15, 62.53s/it]\u001b[A"
     ]
    },
    {
     "name": "stdout",
     "output_type": "stream",
     "text": [
      "[TransNetV2] Extracting frames from /kaggle/input/aic-videob3-2/Videos_L34/video/L34_V026.mp4\n",
      "[TransNetV2] Processing video frames 28748/28748\n"
     ]
    },
    {
     "name": "stderr",
     "output_type": "stream",
     "text": [
      "\n",
      " 83%|████████▎ | 25/30 [25:34<05:14, 62.99s/it]\u001b[A"
     ]
    },
    {
     "name": "stdout",
     "output_type": "stream",
     "text": [
      "[TransNetV2] Extracting frames from /kaggle/input/aic-videob3-2/Videos_L34/video/L34_V027.mp4\n",
      "[TransNetV2] Processing video frames 30941/30941\n"
     ]
    },
    {
     "name": "stderr",
     "output_type": "stream",
     "text": [
      "\n",
      " 87%|████████▋ | 26/30 [26:43<04:18, 64.60s/it]\u001b[A"
     ]
    },
    {
     "name": "stdout",
     "output_type": "stream",
     "text": [
      "[TransNetV2] Extracting frames from /kaggle/input/aic-videob3-2/Videos_L34/video/L34_V028.mp4\n",
      "[TransNetV2] Processing video frames 34609/34609\n"
     ]
    },
    {
     "name": "stderr",
     "output_type": "stream",
     "text": [
      "\n",
      " 90%|█████████ | 27/30 [28:02<03:26, 68.88s/it]\u001b[A"
     ]
    },
    {
     "name": "stdout",
     "output_type": "stream",
     "text": [
      "[TransNetV2] Extracting frames from /kaggle/input/aic-videob3-2/Videos_L34/video/L34_V029.mp4\n",
      "[TransNetV2] Processing video frames 32970/32970\n"
     ]
    },
    {
     "name": "stderr",
     "output_type": "stream",
     "text": [
      "\n",
      " 93%|█████████▎| 28/30 [29:17<02:21, 70.92s/it]\u001b[A"
     ]
    },
    {
     "name": "stdout",
     "output_type": "stream",
     "text": [
      "[TransNetV2] Extracting frames from /kaggle/input/aic-videob3-2/Videos_L34/video/L34_V030.mp4\n",
      "[TransNetV2] Processing video frames 35797/35797\n"
     ]
    },
    {
     "name": "stderr",
     "output_type": "stream",
     "text": [
      "\n",
      " 97%|█████████▋| 29/30 [30:41<01:14, 74.72s/it]\u001b[A"
     ]
    },
    {
     "name": "stdout",
     "output_type": "stream",
     "text": [
      "[TransNetV2] Extracting frames from /kaggle/input/aic-videob3-2/Videos_L34/video/L34_V031.mp4\n",
      "[TransNetV2] Processing video frames 35308/35308\n"
     ]
    },
    {
     "name": "stderr",
     "output_type": "stream",
     "text": [
      "\n",
      "100%|██████████| 30/30 [32:00<00:00, 64.03s/it]\n",
      " 33%|███▎      | 1/3 [32:00<1:04:01, 1920.89s/it]\n",
      "  0%|          | 0/27 [00:00<?, ?it/s]\u001b[A"
     ]
    },
    {
     "name": "stdout",
     "output_type": "stream",
     "text": [
      "[TransNetV2] Extracting frames from /kaggle/input/aic-videob3-2/Videos_L35/video/L35_V001.mp4\n",
      "[TransNetV2] Processing video frames 38319/38319\n"
     ]
    },
    {
     "name": "stderr",
     "output_type": "stream",
     "text": [
      "\n",
      "  4%|▎         | 1/27 [01:26<37:32, 86.62s/it]\u001b[A"
     ]
    },
    {
     "name": "stdout",
     "output_type": "stream",
     "text": [
      "[TransNetV2] Extracting frames from /kaggle/input/aic-videob3-2/Videos_L35/video/L35_V002.mp4\n",
      "[TransNetV2] Processing video frames 35095/35095\n"
     ]
    },
    {
     "name": "stderr",
     "output_type": "stream",
     "text": [
      "\n",
      "  7%|▋         | 2/27 [02:46<34:31, 82.88s/it]\u001b[A"
     ]
    },
    {
     "name": "stdout",
     "output_type": "stream",
     "text": [
      "[TransNetV2] Extracting frames from /kaggle/input/aic-videob3-2/Videos_L35/video/L35_V003.mp4\n",
      "[TransNetV2] Processing video frames 30917/30917\n"
     ]
    },
    {
     "name": "stderr",
     "output_type": "stream",
     "text": [
      "\n",
      " 11%|█         | 3/27 [03:59<31:20, 78.36s/it]\u001b[A"
     ]
    },
    {
     "name": "stdout",
     "output_type": "stream",
     "text": [
      "[TransNetV2] Extracting frames from /kaggle/input/aic-videob3-2/Videos_L35/video/L35_V004.mp4\n",
      "[TransNetV2] Processing video frames 32041/32041\n"
     ]
    },
    {
     "name": "stderr",
     "output_type": "stream",
     "text": [
      "\n",
      " 15%|█▍        | 4/27 [05:14<29:24, 76.74s/it]\u001b[A"
     ]
    },
    {
     "name": "stdout",
     "output_type": "stream",
     "text": [
      "[TransNetV2] Extracting frames from /kaggle/input/aic-videob3-2/Videos_L35/video/L35_V005.mp4\n",
      "[TransNetV2] Processing video frames 33331/33331\n"
     ]
    },
    {
     "name": "stderr",
     "output_type": "stream",
     "text": [
      "\n",
      " 19%|█▊        | 5/27 [06:31<28:12, 76.91s/it]\u001b[A"
     ]
    },
    {
     "name": "stdout",
     "output_type": "stream",
     "text": [
      "[TransNetV2] Extracting frames from /kaggle/input/aic-videob3-2/Videos_L35/video/L35_V006.mp4\n",
      "[TransNetV2] Processing video frames 37946/37946\n"
     ]
    },
    {
     "name": "stderr",
     "output_type": "stream",
     "text": [
      "\n",
      " 22%|██▏       | 6/27 [07:59<28:13, 80.64s/it]\u001b[A"
     ]
    },
    {
     "name": "stdout",
     "output_type": "stream",
     "text": [
      "[TransNetV2] Extracting frames from /kaggle/input/aic-videob3-2/Videos_L35/video/L35_V007.mp4\n",
      "[TransNetV2] Processing video frames 37384/37384\n"
     ]
    },
    {
     "name": "stderr",
     "output_type": "stream",
     "text": [
      "\n",
      " 26%|██▌       | 7/27 [09:24<27:20, 82.04s/it]\u001b[A"
     ]
    },
    {
     "name": "stdout",
     "output_type": "stream",
     "text": [
      "[TransNetV2] Extracting frames from /kaggle/input/aic-videob3-2/Videos_L35/video/L35_V008.mp4\n",
      "[TransNetV2] Processing video frames 33699/33699\n"
     ]
    },
    {
     "name": "stderr",
     "output_type": "stream",
     "text": [
      "\n",
      " 30%|██▉       | 8/27 [10:39<25:20, 80.01s/it]\u001b[A"
     ]
    },
    {
     "name": "stdout",
     "output_type": "stream",
     "text": [
      "[TransNetV2] Extracting frames from /kaggle/input/aic-videob3-2/Videos_L35/video/L35_V009.mp4\n",
      "[TransNetV2] Processing video frames 34408/34408\n"
     ]
    },
    {
     "name": "stderr",
     "output_type": "stream",
     "text": [
      "\n",
      " 33%|███▎      | 9/27 [11:57<23:46, 79.26s/it]\u001b[A"
     ]
    },
    {
     "name": "stdout",
     "output_type": "stream",
     "text": [
      "[TransNetV2] Extracting frames from /kaggle/input/aic-videob3-2/Videos_L35/video/L35_V010.mp4\n",
      "[TransNetV2] Processing video frames 29847/29847\n"
     ]
    },
    {
     "name": "stderr",
     "output_type": "stream",
     "text": [
      "\n",
      " 37%|███▋      | 10/27 [13:03<21:20, 75.31s/it]\u001b[A"
     ]
    },
    {
     "name": "stdout",
     "output_type": "stream",
     "text": [
      "[TransNetV2] Extracting frames from /kaggle/input/aic-videob3-2/Videos_L35/video/L35_V011.mp4\n",
      "[TransNetV2] Processing video frames 29044/29044\n"
     ]
    },
    {
     "name": "stderr",
     "output_type": "stream",
     "text": [
      "\n",
      " 41%|████      | 11/27 [14:09<19:18, 72.42s/it]\u001b[A"
     ]
    },
    {
     "name": "stdout",
     "output_type": "stream",
     "text": [
      "[TransNetV2] Extracting frames from /kaggle/input/aic-videob3-2/Videos_L35/video/L35_V012.mp4\n",
      "[TransNetV2] Processing video frames 34886/34886\n"
     ]
    },
    {
     "name": "stderr",
     "output_type": "stream",
     "text": [
      "\n",
      " 44%|████▍     | 12/27 [15:29<18:40, 74.70s/it]\u001b[A"
     ]
    },
    {
     "name": "stdout",
     "output_type": "stream",
     "text": [
      "[TransNetV2] Extracting frames from /kaggle/input/aic-videob3-2/Videos_L35/video/L35_V013.mp4\n",
      "[TransNetV2] Processing video frames 31049/31049\n"
     ]
    },
    {
     "name": "stderr",
     "output_type": "stream",
     "text": [
      "\n",
      " 48%|████▊     | 13/27 [16:38<16:59, 72.84s/it]\u001b[A"
     ]
    },
    {
     "name": "stdout",
     "output_type": "stream",
     "text": [
      "[TransNetV2] Extracting frames from /kaggle/input/aic-videob3-2/Videos_L35/video/L35_V014.mp4\n",
      "[TransNetV2] Processing video frames 25112/25112\n"
     ]
    },
    {
     "name": "stderr",
     "output_type": "stream",
     "text": [
      "\n",
      " 52%|█████▏    | 14/27 [17:33<14:38, 67.60s/it]\u001b[A"
     ]
    },
    {
     "name": "stdout",
     "output_type": "stream",
     "text": [
      "[TransNetV2] Extracting frames from /kaggle/input/aic-videob3-2/Videos_L35/video/L35_V015.mp4\n",
      "[TransNetV2] Processing video frames 25550/25572"
     ]
    },
    {
     "name": "stderr",
     "output_type": "stream",
     "text": [
      "\n",
      " 56%|█████▌    | 15/27 [18:28<12:44, 63.74s/it]\u001b[A"
     ]
    },
    {
     "name": "stdout",
     "output_type": "stream",
     "text": [
      "[TransNetV2] Processing video frames 25572/25572\n",
      "[TransNetV2] Extracting frames from /kaggle/input/aic-videob3-2/Videos_L35/video/L35_V016.mp4\n",
      "[TransNetV2] Processing video frames 26104/26104\n"
     ]
    },
    {
     "name": "stderr",
     "output_type": "stream",
     "text": [
      "\n",
      " 59%|█████▉    | 16/27 [19:21<11:05, 60.49s/it]\u001b[A"
     ]
    },
    {
     "name": "stdout",
     "output_type": "stream",
     "text": [
      "[TransNetV2] Extracting frames from /kaggle/input/aic-videob3-2/Videos_L35/video/L35_V017.mp4\n",
      "[TransNetV2] Processing video frames 25599/25599\n"
     ]
    },
    {
     "name": "stderr",
     "output_type": "stream",
     "text": [
      "\n",
      " 63%|██████▎   | 17/27 [20:13<09:40, 58.07s/it]\u001b[A"
     ]
    },
    {
     "name": "stdout",
     "output_type": "stream",
     "text": [
      "[TransNetV2] Extracting frames from /kaggle/input/aic-videob3-2/Videos_L35/video/L35_V018.mp4\n",
      "[TransNetV2] Processing video frames 28545/28545\n"
     ]
    },
    {
     "name": "stderr",
     "output_type": "stream",
     "text": [
      "\n",
      " 67%|██████▋   | 18/27 [21:18<08:59, 59.92s/it]\u001b[A"
     ]
    },
    {
     "name": "stdout",
     "output_type": "stream",
     "text": [
      "[TransNetV2] Extracting frames from /kaggle/input/aic-videob3-2/Videos_L35/video/L35_V020.mp4\n",
      "[TransNetV2] Processing video frames 27134/27134\n"
     ]
    },
    {
     "name": "stderr",
     "output_type": "stream",
     "text": [
      "\n",
      " 70%|███████   | 19/27 [22:19<08:02, 60.32s/it]\u001b[A"
     ]
    },
    {
     "name": "stdout",
     "output_type": "stream",
     "text": [
      "[TransNetV2] Extracting frames from /kaggle/input/aic-videob3-2/Videos_L35/video/L35_V021.mp4\n",
      "[TransNetV2] Processing video frames 31368/31368\n"
     ]
    },
    {
     "name": "stderr",
     "output_type": "stream",
     "text": [
      "\n",
      " 74%|███████▍  | 20/27 [23:28<07:19, 62.83s/it]\u001b[A"
     ]
    },
    {
     "name": "stdout",
     "output_type": "stream",
     "text": [
      "[TransNetV2] Extracting frames from /kaggle/input/aic-videob3-2/Videos_L35/video/L35_V022.mp4\n",
      "[TransNetV2] Processing video frames 30302/30302\n"
     ]
    },
    {
     "name": "stderr",
     "output_type": "stream",
     "text": [
      "\n",
      " 78%|███████▊  | 21/27 [24:35<06:24, 64.09s/it]\u001b[A"
     ]
    },
    {
     "name": "stdout",
     "output_type": "stream",
     "text": [
      "[TransNetV2] Extracting frames from /kaggle/input/aic-videob3-2/Videos_L35/video/L35_V023.mp4\n",
      "[TransNetV2] Processing video frames 24565/24565\n"
     ]
    },
    {
     "name": "stderr",
     "output_type": "stream",
     "text": [
      "\n",
      " 81%|████████▏ | 22/27 [25:27<05:03, 60.67s/it]\u001b[A"
     ]
    },
    {
     "name": "stdout",
     "output_type": "stream",
     "text": [
      "[TransNetV2] Extracting frames from /kaggle/input/aic-videob3-2/Videos_L35/video/L35_V024.mp4\n",
      "[TransNetV2] Processing video frames 30686/30686\n"
     ]
    },
    {
     "name": "stderr",
     "output_type": "stream",
     "text": [
      "\n",
      " 85%|████████▌ | 23/27 [26:34<04:09, 62.44s/it]\u001b[A"
     ]
    },
    {
     "name": "stdout",
     "output_type": "stream",
     "text": [
      "[TransNetV2] Extracting frames from /kaggle/input/aic-videob3-2/Videos_L35/video/L35_V025.mp4\n",
      "[TransNetV2] Processing video frames 29691/29691\n"
     ]
    },
    {
     "name": "stderr",
     "output_type": "stream",
     "text": [
      "\n",
      " 89%|████████▉ | 24/27 [27:46<03:15, 65.21s/it]\u001b[A"
     ]
    },
    {
     "name": "stdout",
     "output_type": "stream",
     "text": [
      "[TransNetV2] Extracting frames from /kaggle/input/aic-videob3-2/Videos_L35/video/L35_V026.mp4\n",
      "[TransNetV2] Processing video frames 31749/31749\n"
     ]
    },
    {
     "name": "stderr",
     "output_type": "stream",
     "text": [
      "\n",
      " 93%|█████████▎| 25/27 [28:55<02:12, 66.36s/it]\u001b[A"
     ]
    },
    {
     "name": "stdout",
     "output_type": "stream",
     "text": [
      "[TransNetV2] Extracting frames from /kaggle/input/aic-videob3-2/Videos_L35/video/L35_V027.mp4\n",
      "[TransNetV2] Processing video frames 32368/32368\n"
     ]
    },
    {
     "name": "stderr",
     "output_type": "stream",
     "text": [
      "\n",
      " 96%|█████████▋| 26/27 [30:04<01:07, 67.29s/it]\u001b[A"
     ]
    },
    {
     "name": "stdout",
     "output_type": "stream",
     "text": [
      "[TransNetV2] Extracting frames from /kaggle/input/aic-videob3-2/Videos_L35/video/L35_V028.mp4\n",
      "[TransNetV2] Processing video frames 30457/30457\n"
     ]
    },
    {
     "name": "stderr",
     "output_type": "stream",
     "text": [
      "\n",
      "100%|██████████| 27/27 [31:11<00:00, 69.33s/it]\n",
      " 67%|██████▋   | 2/3 [1:03:12<31:32, 1892.13s/it]\n",
      "  0%|          | 0/27 [00:00<?, ?it/s]\u001b[A"
     ]
    },
    {
     "name": "stdout",
     "output_type": "stream",
     "text": [
      "[TransNetV2] Extracting frames from /kaggle/input/aic-videob3-2/Videos_L36/video/L36_V001.mp4\n",
      "[TransNetV2] Processing video frames 30765/30765\n"
     ]
    },
    {
     "name": "stderr",
     "output_type": "stream",
     "text": [
      "\n",
      "  4%|▎         | 1/27 [01:10<30:37, 70.67s/it]\u001b[A"
     ]
    },
    {
     "name": "stdout",
     "output_type": "stream",
     "text": [
      "[TransNetV2] Extracting frames from /kaggle/input/aic-videob3-2/Videos_L36/video/L36_V002.mp4\n",
      "[TransNetV2] Processing video frames 31945/31945\n"
     ]
    },
    {
     "name": "stderr",
     "output_type": "stream",
     "text": [
      "\n",
      "  7%|▋         | 2/27 [02:22<29:50, 71.63s/it]\u001b[A"
     ]
    },
    {
     "name": "stdout",
     "output_type": "stream",
     "text": [
      "[TransNetV2] Extracting frames from /kaggle/input/aic-videob3-2/Videos_L36/video/L36_V003.mp4\n",
      "[TransNetV2] Processing video frames 33988/33988\n"
     ]
    },
    {
     "name": "stderr",
     "output_type": "stream",
     "text": [
      "\n",
      " 11%|█         | 3/27 [03:38<29:24, 73.51s/it]\u001b[A"
     ]
    },
    {
     "name": "stdout",
     "output_type": "stream",
     "text": [
      "[TransNetV2] Extracting frames from /kaggle/input/aic-videob3-2/Videos_L36/video/L36_V004.mp4\n",
      "[TransNetV2] Processing video frames 31512/31512\n"
     ]
    },
    {
     "name": "stderr",
     "output_type": "stream",
     "text": [
      "\n",
      " 15%|█▍        | 4/27 [04:51<28:03, 73.19s/it]\u001b[A"
     ]
    },
    {
     "name": "stdout",
     "output_type": "stream",
     "text": [
      "[TransNetV2] Extracting frames from /kaggle/input/aic-videob3-2/Videos_L36/video/L36_V005.mp4\n",
      "[TransNetV2] Processing video frames 31563/31563\n"
     ]
    },
    {
     "name": "stderr",
     "output_type": "stream",
     "text": [
      "\n",
      " 19%|█▊        | 5/27 [06:04<26:46, 73.04s/it]\u001b[A"
     ]
    },
    {
     "name": "stdout",
     "output_type": "stream",
     "text": [
      "[TransNetV2] Extracting frames from /kaggle/input/aic-videob3-2/Videos_L36/video/L36_V006.mp4\n",
      "[TransNetV2] Processing video frames 30429/30429\n"
     ]
    },
    {
     "name": "stderr",
     "output_type": "stream",
     "text": [
      "\n",
      " 22%|██▏       | 6/27 [07:13<25:07, 71.80s/it]\u001b[A"
     ]
    },
    {
     "name": "stdout",
     "output_type": "stream",
     "text": [
      "[TransNetV2] Extracting frames from /kaggle/input/aic-videob3-2/Videos_L36/video/L36_V008.mp4\n",
      "[TransNetV2] Processing video frames 26491/26491\n"
     ]
    },
    {
     "name": "stderr",
     "output_type": "stream",
     "text": [
      "\n",
      " 26%|██▌       | 7/27 [08:07<22:00, 66.00s/it]\u001b[A"
     ]
    },
    {
     "name": "stdout",
     "output_type": "stream",
     "text": [
      "[TransNetV2] Extracting frames from /kaggle/input/aic-videob3-2/Videos_L36/video/L36_V009.mp4\n",
      "[TransNetV2] Processing video frames 22050/22099"
     ]
    },
    {
     "name": "stderr",
     "output_type": "stream",
     "text": [
      "\n",
      " 30%|██▉       | 8/27 [08:53<18:52, 59.61s/it]\u001b[A"
     ]
    },
    {
     "name": "stdout",
     "output_type": "stream",
     "text": [
      "[TransNetV2] Processing video frames 22099/22099\n",
      "[TransNetV2] Extracting frames from /kaggle/input/aic-videob3-2/Videos_L36/video/L36_V010.mp4\n",
      "[TransNetV2] Processing video frames 22832/22832\n"
     ]
    },
    {
     "name": "stderr",
     "output_type": "stream",
     "text": [
      "\n",
      " 33%|███▎      | 9/27 [09:39<16:34, 55.23s/it]\u001b[A"
     ]
    },
    {
     "name": "stdout",
     "output_type": "stream",
     "text": [
      "[TransNetV2] Extracting frames from /kaggle/input/aic-videob3-2/Videos_L36/video/L36_V011.mp4\n",
      "[TransNetV2] Processing video frames 23450/23460"
     ]
    },
    {
     "name": "stderr",
     "output_type": "stream",
     "text": [
      "\n",
      " 37%|███▋      | 10/27 [10:30<15:17, 53.98s/it]\u001b[A"
     ]
    },
    {
     "name": "stdout",
     "output_type": "stream",
     "text": [
      "[TransNetV2] Processing video frames 23460/23460\n",
      "[TransNetV2] Extracting frames from /kaggle/input/aic-videob3-2/Videos_L36/video/L36_V012.mp4\n",
      "[TransNetV2] Processing video frames 29032/29032\n"
     ]
    },
    {
     "name": "stderr",
     "output_type": "stream",
     "text": [
      "\n",
      " 41%|████      | 11/27 [11:34<15:12, 57.02s/it]\u001b[A"
     ]
    },
    {
     "name": "stdout",
     "output_type": "stream",
     "text": [
      "[TransNetV2] Extracting frames from /kaggle/input/aic-videob3-2/Videos_L36/video/L36_V013.mp4\n",
      "[TransNetV2] Processing video frames 27554/27554\n"
     ]
    },
    {
     "name": "stderr",
     "output_type": "stream",
     "text": [
      "\n",
      " 44%|████▍     | 12/27 [12:35<14:32, 58.18s/it]\u001b[A"
     ]
    },
    {
     "name": "stdout",
     "output_type": "stream",
     "text": [
      "[TransNetV2] Extracting frames from /kaggle/input/aic-videob3-2/Videos_L36/video/L36_V014.mp4\n",
      "[TransNetV2] Processing video frames 19182/19182\n"
     ]
    },
    {
     "name": "stderr",
     "output_type": "stream",
     "text": [
      "\n",
      " 48%|████▊     | 13/27 [13:18<12:29, 53.57s/it]\u001b[A"
     ]
    },
    {
     "name": "stdout",
     "output_type": "stream",
     "text": [
      "[TransNetV2] Extracting frames from /kaggle/input/aic-videob3-2/Videos_L36/video/L36_V015.mp4\n",
      "[TransNetV2] Processing video frames 19866/19866\n"
     ]
    },
    {
     "name": "stderr",
     "output_type": "stream",
     "text": [
      "\n",
      " 52%|█████▏    | 14/27 [14:03<11:02, 50.99s/it]\u001b[A"
     ]
    },
    {
     "name": "stdout",
     "output_type": "stream",
     "text": [
      "[TransNetV2] Extracting frames from /kaggle/input/aic-videob3-2/Videos_L36/video/L36_V016.mp4\n",
      "[TransNetV2] Processing video frames 19518/19518\n"
     ]
    },
    {
     "name": "stderr",
     "output_type": "stream",
     "text": [
      "\n",
      " 56%|█████▌    | 15/27 [14:42<09:31, 47.63s/it]\u001b[A"
     ]
    },
    {
     "name": "stdout",
     "output_type": "stream",
     "text": [
      "[TransNetV2] Extracting frames from /kaggle/input/aic-videob3-2/Videos_L36/video/L36_V017.mp4\n",
      "[TransNetV2] Processing video frames 18456/18456\n"
     ]
    },
    {
     "name": "stderr",
     "output_type": "stream",
     "text": [
      "\n",
      " 59%|█████▉    | 16/27 [15:24<08:23, 45.78s/it]\u001b[A"
     ]
    },
    {
     "name": "stdout",
     "output_type": "stream",
     "text": [
      "[TransNetV2] Extracting frames from /kaggle/input/aic-videob3-2/Videos_L36/video/L36_V018.mp4\n",
      "[TransNetV2] Processing video frames 19553/19553\n"
     ]
    },
    {
     "name": "stderr",
     "output_type": "stream",
     "text": [
      "\n",
      " 63%|██████▎   | 17/27 [16:09<07:35, 45.54s/it]\u001b[A"
     ]
    },
    {
     "name": "stdout",
     "output_type": "stream",
     "text": [
      "[TransNetV2] Extracting frames from /kaggle/input/aic-videob3-2/Videos_L36/video/L36_V019.mp4\n",
      "[TransNetV2] Processing video frames 27791/27791\n"
     ]
    },
    {
     "name": "stderr",
     "output_type": "stream",
     "text": [
      "\n",
      " 67%|██████▋   | 18/27 [17:12<07:38, 50.91s/it]\u001b[A"
     ]
    },
    {
     "name": "stdout",
     "output_type": "stream",
     "text": [
      "[TransNetV2] Extracting frames from /kaggle/input/aic-videob3-2/Videos_L36/video/L36_V020.mp4\n",
      "[TransNetV2] Processing video frames 26761/26761\n"
     ]
    },
    {
     "name": "stderr",
     "output_type": "stream",
     "text": [
      "\n",
      " 70%|███████   | 19/27 [18:12<07:08, 53.60s/it]\u001b[A"
     ]
    },
    {
     "name": "stdout",
     "output_type": "stream",
     "text": [
      "[TransNetV2] Extracting frames from /kaggle/input/aic-videob3-2/Videos_L36/video/L36_V021.mp4\n",
      "[TransNetV2] Processing video frames 16668/16668\n"
     ]
    },
    {
     "name": "stderr",
     "output_type": "stream",
     "text": [
      "\n",
      " 74%|███████▍  | 20/27 [18:47<05:35, 47.87s/it]\u001b[A"
     ]
    },
    {
     "name": "stdout",
     "output_type": "stream",
     "text": [
      "[TransNetV2] Extracting frames from /kaggle/input/aic-videob3-2/Videos_L36/video/L36_V022.mp4\n",
      "[TransNetV2] Processing video frames 21795/21795\n"
     ]
    },
    {
     "name": "stderr",
     "output_type": "stream",
     "text": [
      "\n",
      " 78%|███████▊  | 21/27 [19:35<04:48, 48.11s/it]\u001b[A"
     ]
    },
    {
     "name": "stdout",
     "output_type": "stream",
     "text": [
      "[TransNetV2] Extracting frames from /kaggle/input/aic-videob3-2/Videos_L36/video/L36_V023.mp4\n",
      "[TransNetV2] Processing video frames 18507/18507\n"
     ]
    },
    {
     "name": "stderr",
     "output_type": "stream",
     "text": [
      "\n",
      " 81%|████████▏ | 22/27 [20:16<03:49, 45.88s/it]\u001b[A"
     ]
    },
    {
     "name": "stdout",
     "output_type": "stream",
     "text": [
      "[TransNetV2] Extracting frames from /kaggle/input/aic-videob3-2/Videos_L36/video/L36_V024.mp4\n",
      "[TransNetV2] Processing video frames 19950/20037"
     ]
    },
    {
     "name": "stderr",
     "output_type": "stream",
     "text": [
      "\n",
      " 85%|████████▌ | 23/27 [21:00<03:01, 45.40s/it]\u001b[A"
     ]
    },
    {
     "name": "stdout",
     "output_type": "stream",
     "text": [
      "[TransNetV2] Processing video frames 20037/20037\n",
      "[TransNetV2] Extracting frames from /kaggle/input/aic-videob3-2/Videos_L36/video/L36_V025.mp4\n",
      "[TransNetV2] Processing video frames 23935/23935\n"
     ]
    },
    {
     "name": "stderr",
     "output_type": "stream",
     "text": [
      "\n",
      " 89%|████████▉ | 24/27 [21:53<02:22, 47.61s/it]\u001b[A"
     ]
    },
    {
     "name": "stdout",
     "output_type": "stream",
     "text": [
      "[TransNetV2] Extracting frames from /kaggle/input/aic-videob3-2/Videos_L36/video/L36_V026.mp4\n",
      "[TransNetV2] Processing video frames 25686/25686\n"
     ]
    },
    {
     "name": "stderr",
     "output_type": "stream",
     "text": [
      "\n",
      " 93%|█████████▎| 25/27 [22:44<01:36, 48.48s/it]\u001b[A"
     ]
    },
    {
     "name": "stdout",
     "output_type": "stream",
     "text": [
      "[TransNetV2] Extracting frames from /kaggle/input/aic-videob3-2/Videos_L36/video/L36_V027.mp4\n",
      "[TransNetV2] Processing video frames 25739/25739\n"
     ]
    },
    {
     "name": "stderr",
     "output_type": "stream",
     "text": [
      "\n",
      " 96%|█████████▋| 26/27 [23:36<00:49, 49.59s/it]\u001b[A"
     ]
    },
    {
     "name": "stdout",
     "output_type": "stream",
     "text": [
      "[TransNetV2] Extracting frames from /kaggle/input/aic-videob3-2/Videos_L36/video/L36_V028.mp4\n",
      "[TransNetV2] Processing video frames 28642/28642\n"
     ]
    },
    {
     "name": "stderr",
     "output_type": "stream",
     "text": [
      "\n",
      "100%|██████████| 27/27 [24:38<00:00, 54.77s/it]\n",
      "100%|██████████| 3/3 [1:27:51<00:00, 1757.20s/it]\n"
     ]
    }
   ],
   "source": [
    "model = TransNetV2()\n",
    "\n",
    "save_dir = './SceneJSON'\n",
    "if not os.path.exists(save_dir):\n",
    "    os.mkdir(save_dir)\n",
    "\n",
    "for key, video_paths_dict in tqdm(all_video_paths.items()):\n",
    "    video_ids = sorted(video_paths_dict.keys())\n",
    "    if not os.path.exists(os.path.join(save_dir, key)):\n",
    "        os.mkdir(os.path.join(save_dir, key))\n",
    "    \n",
    "    for video_id in tqdm(video_ids):\n",
    "        video_path = video_paths_dict[video_id]\n",
    "        _, single_frame_predictions, _ = model.predict_video(video_path)\n",
    "        \n",
    "#         # Generate list of scenes from predictions, returns tuples of (start frame, end frame)\n",
    "        scenes = model.predictions_to_scenes(single_frame_predictions)\n",
    "        \n",
    "        with open(f\"{save_dir}/{key}/{video_id}.json\", 'w') as f:\n",
    "            json.dump(scenes.tolist(), f)"
   ]
  },
  {
   "cell_type": "code",
   "execution_count": 5,
   "id": "c446fc0f",
   "metadata": {
    "execution": {
     "iopub.execute_input": "2024-03-22T09:22:56.040215Z",
     "iopub.status.busy": "2024-03-22T09:22:56.039281Z",
     "iopub.status.idle": "2024-03-22T09:22:57.019695Z",
     "shell.execute_reply": "2024-03-22T09:22:57.018469Z"
    },
    "papermill": {
     "duration": 1.600684,
     "end_time": "2024-03-22T09:22:57.022184",
     "exception": false,
     "start_time": "2024-03-22T09:22:55.421500",
     "status": "completed"
    },
    "tags": []
   },
   "outputs": [
    {
     "name": "stdout",
     "output_type": "stream",
     "text": [
      "rm: cannot remove './TransNetV2': No such file or directory\r\n"
     ]
    }
   ],
   "source": [
    "!rm -r ./TransNetV2"
   ]
  }
 ],
 "metadata": {
  "kaggle": {
   "accelerator": "gpu",
   "dataSources": [
    {
     "datasetId": 3802877,
     "sourceId": 6588230,
     "sourceType": "datasetVersion"
    }
   ],
   "dockerImageVersionId": 30673,
   "isGpuEnabled": true,
   "isInternetEnabled": true,
   "language": "python",
   "sourceType": "notebook"
  },
  "kernelspec": {
   "display_name": "Python 3",
   "language": "python",
   "name": "python3"
  },
  "language_info": {
   "codemirror_mode": {
    "name": "ipython",
    "version": 3
   },
   "file_extension": ".py",
   "mimetype": "text/x-python",
   "name": "python",
   "nbconvert_exporter": "python",
   "pygments_lexer": "ipython3",
   "version": "3.10.13"
  },
  "papermill": {
   "default_parameters": {},
   "duration": 5319.767808,
   "end_time": "2024-03-22T09:23:00.431858",
   "environment_variables": {},
   "exception": null,
   "input_path": "__notebook__.ipynb",
   "output_path": "__notebook__.ipynb",
   "parameters": {},
   "start_time": "2024-03-22T07:54:20.664050",
   "version": "2.5.0"
  }
 },
 "nbformat": 4,
 "nbformat_minor": 5
}
