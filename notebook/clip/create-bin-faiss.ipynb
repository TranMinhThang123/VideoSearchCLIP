{
 "cells": [
  {
   "cell_type": "code",
   "execution_count": 1,
   "id": "1d95dbe4",
   "metadata": {
    "_cell_guid": "b1076dfc-b9ad-4769-8c92-a6c4dae69d19",
    "_uuid": "8f2839f25d086af736a60e9eeb907d3b93b6e0e5",
    "execution": {
     "iopub.execute_input": "2024-03-25T04:03:54.796701Z",
     "iopub.status.busy": "2024-03-25T04:03:54.796330Z",
     "iopub.status.idle": "2024-03-25T04:04:10.232677Z",
     "shell.execute_reply": "2024-03-25T04:04:10.231590Z"
    },
    "papermill": {
     "duration": 15.442677,
     "end_time": "2024-03-25T04:04:10.235164",
     "exception": false,
     "start_time": "2024-03-25T04:03:54.792487",
     "status": "completed"
    },
    "tags": []
   },
   "outputs": [
    {
     "name": "stdout",
     "output_type": "stream",
     "text": [
      "Collecting faiss-cpu\r\n",
      "  Downloading faiss_cpu-1.8.0-cp310-cp310-manylinux_2_17_x86_64.manylinux2014_x86_64.whl.metadata (3.6 kB)\r\n",
      "Requirement already satisfied: numpy in /opt/conda/lib/python3.10/site-packages (from faiss-cpu) (1.26.4)\r\n",
      "Downloading faiss_cpu-1.8.0-cp310-cp310-manylinux_2_17_x86_64.manylinux2014_x86_64.whl (27.0 MB)\r\n",
      "\u001b[2K   \u001b[90m━━━━━━━━━━━━━━━━━━━━━━━━━━━━━━━━━━━━━━━━\u001b[0m \u001b[32m27.0/27.0 MB\u001b[0m \u001b[31m61.2 MB/s\u001b[0m eta \u001b[36m0:00:00\u001b[0m\r\n",
      "\u001b[?25hInstalling collected packages: faiss-cpu\r\n",
      "Successfully installed faiss-cpu-1.8.0\r\n"
     ]
    }
   ],
   "source": [
    "!pip install faiss-cpu"
   ]
  },
  {
   "cell_type": "code",
   "execution_count": 2,
   "id": "96356628",
   "metadata": {
    "execution": {
     "iopub.execute_input": "2024-03-25T04:04:10.243393Z",
     "iopub.status.busy": "2024-03-25T04:04:10.242730Z",
     "iopub.status.idle": "2024-03-25T04:04:10.286805Z",
     "shell.execute_reply": "2024-03-25T04:04:10.285807Z"
    },
    "papermill": {
     "duration": 0.050736,
     "end_time": "2024-03-25T04:04:10.289196",
     "exception": false,
     "start_time": "2024-03-25T04:04:10.238460",
     "status": "completed"
    },
    "tags": []
   },
   "outputs": [],
   "source": [
    "import os\n",
    "import glob\n",
    "import faiss\n",
    "import numpy as np\n",
    "from tqdm import tqdm"
   ]
  },
  {
   "cell_type": "code",
   "execution_count": 3,
   "id": "0eec4423",
   "metadata": {
    "execution": {
     "iopub.execute_input": "2024-03-25T04:04:10.297002Z",
     "iopub.status.busy": "2024-03-25T04:04:10.296356Z",
     "iopub.status.idle": "2024-03-25T04:04:15.056282Z",
     "shell.execute_reply": "2024-03-25T04:04:15.055475Z"
    },
    "papermill": {
     "duration": 4.766312,
     "end_time": "2024-03-25T04:04:15.058634",
     "exception": false,
     "start_time": "2024-03-25T04:04:10.292322",
     "status": "completed"
    },
    "tags": []
   },
   "outputs": [
    {
     "name": "stderr",
     "output_type": "stream",
     "text": [
      "  0%|          | 0/5 [00:00<?, ?it/s]\n",
      "  0%|          | 0/30 [00:00<?, ?it/s]\u001b[A\n",
      " 10%|█         | 3/30 [00:00<00:01, 25.56it/s]\u001b[A\n",
      " 20%|██        | 6/30 [00:00<00:00, 26.23it/s]\u001b[A\n",
      " 30%|███       | 9/30 [00:00<00:00, 25.57it/s]\u001b[A\n",
      " 40%|████      | 12/30 [00:00<00:00, 24.07it/s]\u001b[A\n",
      " 53%|█████▎    | 16/30 [00:00<00:00, 27.27it/s]\u001b[A\n",
      " 63%|██████▎   | 19/30 [00:00<00:00, 25.87it/s]\u001b[A\n",
      " 73%|███████▎  | 22/30 [00:00<00:00, 26.43it/s]\u001b[A\n",
      " 87%|████████▋ | 26/30 [00:00<00:00, 29.06it/s]\u001b[A\n",
      "100%|██████████| 30/30 [00:01<00:00, 27.42it/s]\n",
      " 20%|██        | 1/5 [00:01<00:04,  1.11s/it]\n",
      "  0%|          | 0/31 [00:00<?, ?it/s]\u001b[A\n",
      " 13%|█▎        | 4/31 [00:00<00:00, 37.39it/s]\u001b[A\n",
      " 26%|██▌       | 8/31 [00:00<00:00, 29.31it/s]\u001b[A\n",
      " 45%|████▌     | 14/31 [00:00<00:00, 39.31it/s]\u001b[A\n",
      " 61%|██████▏   | 19/31 [00:00<00:00, 42.68it/s]\u001b[A\n",
      " 77%|███████▋  | 24/31 [00:00<00:00, 43.54it/s]\u001b[A\n",
      "100%|██████████| 31/31 [00:00<00:00, 41.61it/s]\n",
      " 40%|████      | 2/5 [00:01<00:02,  1.11it/s]\n",
      "  0%|          | 0/30 [00:00<?, ?it/s]\u001b[A\n",
      " 13%|█▎        | 4/30 [00:00<00:00, 38.08it/s]\u001b[A\n",
      " 27%|██▋       | 8/30 [00:00<00:00, 35.42it/s]\u001b[A\n",
      " 43%|████▎     | 13/30 [00:00<00:00, 27.01it/s]\u001b[A\n",
      " 57%|█████▋    | 17/30 [00:00<00:00, 28.63it/s]\u001b[A\n",
      " 70%|███████   | 21/30 [00:00<00:00, 31.52it/s]\u001b[A\n",
      " 83%|████████▎ | 25/30 [00:00<00:00, 33.05it/s]\u001b[A\n",
      "100%|██████████| 30/30 [00:00<00:00, 30.16it/s]\n",
      " 60%|██████    | 3/5 [00:02<00:01,  1.05it/s]\n",
      "  0%|          | 0/27 [00:00<?, ?it/s]\u001b[A\n",
      " 11%|█         | 3/27 [00:00<00:00, 24.75it/s]\u001b[A\n",
      " 22%|██▏       | 6/27 [00:00<00:00, 23.92it/s]\u001b[A\n",
      " 33%|███▎      | 9/27 [00:00<00:00, 26.11it/s]\u001b[A\n",
      " 48%|████▊     | 13/27 [00:00<00:00, 29.28it/s]\u001b[A\n",
      " 67%|██████▋   | 18/27 [00:00<00:00, 35.01it/s]\u001b[A\n",
      " 85%|████████▌ | 23/27 [00:00<00:00, 37.26it/s]\u001b[A\n",
      "100%|██████████| 27/27 [00:00<00:00, 33.43it/s]\n",
      " 80%|████████  | 4/5 [00:03<00:00,  1.11it/s]\n",
      "  0%|          | 0/27 [00:00<?, ?it/s]\u001b[A\n",
      " 15%|█▍        | 4/27 [00:00<00:00, 34.82it/s]\u001b[A\n",
      " 33%|███▎      | 9/27 [00:00<00:00, 40.42it/s]\u001b[A\n",
      " 52%|█████▏    | 14/27 [00:00<00:00, 43.35it/s]\u001b[A\n",
      " 70%|███████   | 19/27 [00:00<00:00, 43.73it/s]\u001b[A\n",
      "100%|██████████| 27/27 [00:00<00:00, 32.39it/s]\n",
      "100%|██████████| 5/5 [00:04<00:00,  1.10it/s]\n"
     ]
    }
   ],
   "source": [
    "feature_shape = 512\n",
    "features_dir = '/kaggle/input/clip-features/CLIP_features'\n",
    "\n",
    "index = faiss.IndexFlatIP(feature_shape)\n",
    "\n",
    "for data_part in tqdm(sorted(os.listdir(features_dir))):\n",
    "    for feature_path in tqdm(sorted(glob.glob(os.path.join(features_dir, data_part) +'/*.npy'))):\n",
    "        feats = np.load(feature_path)\n",
    "        for feat in feats:\n",
    "            feat = feat.astype(np.float32).reshape(1,-1)\n",
    "            index.add(feat)\n",
    "\n",
    "faiss.write_index(index, f\"faiss_clip.bin\")"
   ]
  }
 ],
 "metadata": {
  "kaggle": {
   "accelerator": "gpu",
   "dataSources": [
    {
     "datasetId": 4664020,
     "sourceId": 7934363,
     "sourceType": "datasetVersion"
    }
   ],
   "dockerImageVersionId": 30674,
   "isGpuEnabled": true,
   "isInternetEnabled": true,
   "language": "python",
   "sourceType": "notebook"
  },
  "kernelspec": {
   "display_name": "Python 3",
   "language": "python",
   "name": "python3"
  },
  "language_info": {
   "codemirror_mode": {
    "name": "ipython",
    "version": 3
   },
   "file_extension": ".py",
   "mimetype": "text/x-python",
   "name": "python",
   "nbconvert_exporter": "python",
   "pygments_lexer": "ipython3",
   "version": "3.10.13"
  },
  "papermill": {
   "default_parameters": {},
   "duration": 23.565344,
   "end_time": "2024-03-25T04:04:15.390890",
   "environment_variables": {},
   "exception": null,
   "input_path": "__notebook__.ipynb",
   "output_path": "__notebook__.ipynb",
   "parameters": {},
   "start_time": "2024-03-25T04:03:51.825546",
   "version": "2.5.0"
  }
 },
 "nbformat": 4,
 "nbformat_minor": 5
}
