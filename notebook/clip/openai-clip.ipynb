{
 "cells": [
  {
   "cell_type": "code",
   "execution_count": 1,
   "id": "3e908aaa",
   "metadata": {
    "_cell_guid": "b1076dfc-b9ad-4769-8c92-a6c4dae69d19",
    "_uuid": "8f2839f25d086af736a60e9eeb907d3b93b6e0e5",
    "execution": {
     "iopub.execute_input": "2024-03-25T02:37:44.784288Z",
     "iopub.status.busy": "2024-03-25T02:37:44.783948Z",
     "iopub.status.idle": "2024-03-25T02:38:02.755903Z",
     "shell.execute_reply": "2024-03-25T02:38:02.754969Z"
    },
    "papermill": {
     "duration": 17.978869,
     "end_time": "2024-03-25T02:38:02.758350",
     "exception": false,
     "start_time": "2024-03-25T02:37:44.779481",
     "status": "completed"
    },
    "tags": []
   },
   "outputs": [
    {
     "name": "stdout",
     "output_type": "stream",
     "text": [
      "Collecting git+https://github.com/openai/CLIP.git\r\n",
      "  Cloning https://github.com/openai/CLIP.git to /tmp/pip-req-build-i7mtpmr7\r\n",
      "  Running command git clone --filter=blob:none --quiet https://github.com/openai/CLIP.git /tmp/pip-req-build-i7mtpmr7\r\n",
      "  Resolved https://github.com/openai/CLIP.git to commit a1d071733d7111c9c014f024669f959182114e33\r\n",
      "  Preparing metadata (setup.py) ... \u001b[?25l-\b \bdone\r\n",
      "\u001b[?25hCollecting ftfy (from clip==1.0)\r\n",
      "  Downloading ftfy-6.2.0-py3-none-any.whl.metadata (7.3 kB)\r\n",
      "Requirement already satisfied: regex in /opt/conda/lib/python3.10/site-packages (from clip==1.0) (2023.12.25)\r\n",
      "Requirement already satisfied: tqdm in /opt/conda/lib/python3.10/site-packages (from clip==1.0) (4.66.1)\r\n",
      "Requirement already satisfied: torch in /opt/conda/lib/python3.10/site-packages (from clip==1.0) (2.1.2)\r\n",
      "Requirement already satisfied: torchvision in /opt/conda/lib/python3.10/site-packages (from clip==1.0) (0.16.2)\r\n",
      "Requirement already satisfied: wcwidth<0.3.0,>=0.2.12 in /opt/conda/lib/python3.10/site-packages (from ftfy->clip==1.0) (0.2.13)\r\n",
      "Requirement already satisfied: filelock in /opt/conda/lib/python3.10/site-packages (from torch->clip==1.0) (3.13.1)\r\n",
      "Requirement already satisfied: typing-extensions in /opt/conda/lib/python3.10/site-packages (from torch->clip==1.0) (4.9.0)\r\n",
      "Requirement already satisfied: sympy in /opt/conda/lib/python3.10/site-packages (from torch->clip==1.0) (1.12)\r\n",
      "Requirement already satisfied: networkx in /opt/conda/lib/python3.10/site-packages (from torch->clip==1.0) (3.2.1)\r\n",
      "Requirement already satisfied: jinja2 in /opt/conda/lib/python3.10/site-packages (from torch->clip==1.0) (3.1.2)\r\n",
      "Requirement already satisfied: fsspec in /opt/conda/lib/python3.10/site-packages (from torch->clip==1.0) (2024.3.0)\r\n",
      "Requirement already satisfied: numpy in /opt/conda/lib/python3.10/site-packages (from torchvision->clip==1.0) (1.26.4)\r\n",
      "Requirement already satisfied: requests in /opt/conda/lib/python3.10/site-packages (from torchvision->clip==1.0) (2.31.0)\r\n",
      "Requirement already satisfied: pillow!=8.3.*,>=5.3.0 in /opt/conda/lib/python3.10/site-packages (from torchvision->clip==1.0) (9.5.0)\r\n",
      "Requirement already satisfied: MarkupSafe>=2.0 in /opt/conda/lib/python3.10/site-packages (from jinja2->torch->clip==1.0) (2.1.3)\r\n",
      "Requirement already satisfied: charset-normalizer<4,>=2 in /opt/conda/lib/python3.10/site-packages (from requests->torchvision->clip==1.0) (3.3.2)\r\n",
      "Requirement already satisfied: idna<4,>=2.5 in /opt/conda/lib/python3.10/site-packages (from requests->torchvision->clip==1.0) (3.6)\r\n",
      "Requirement already satisfied: urllib3<3,>=1.21.1 in /opt/conda/lib/python3.10/site-packages (from requests->torchvision->clip==1.0) (1.26.18)\r\n",
      "Requirement already satisfied: certifi>=2017.4.17 in /opt/conda/lib/python3.10/site-packages (from requests->torchvision->clip==1.0) (2024.2.2)\r\n",
      "Requirement already satisfied: mpmath>=0.19 in /opt/conda/lib/python3.10/site-packages (from sympy->torch->clip==1.0) (1.3.0)\r\n",
      "Downloading ftfy-6.2.0-py3-none-any.whl (54 kB)\r\n",
      "\u001b[2K   \u001b[90m━━━━━━━━━━━━━━━━━━━━━━━━━━━━━━━━━━━━━━━━\u001b[0m \u001b[32m54.4/54.4 kB\u001b[0m \u001b[31m2.5 MB/s\u001b[0m eta \u001b[36m0:00:00\u001b[0m\r\n",
      "\u001b[?25hBuilding wheels for collected packages: clip\r\n",
      "  Building wheel for clip (setup.py) ... \u001b[?25l-\b \b\\\b \bdone\r\n",
      "\u001b[?25h  Created wheel for clip: filename=clip-1.0-py3-none-any.whl size=1369497 sha256=d93020fb89855e821ec2d02603ccb5b7eadfcda88c326afcc47972a4f3590cb8\r\n",
      "  Stored in directory: /tmp/pip-ephem-wheel-cache-_mnewqhu/wheels/da/2b/4c/d6691fa9597aac8bb85d2ac13b112deb897d5b50f5ad9a37e4\r\n",
      "Successfully built clip\r\n",
      "Installing collected packages: ftfy, clip\r\n",
      "Successfully installed clip-1.0 ftfy-6.2.0\r\n"
     ]
    }
   ],
   "source": [
    "# Instal dependency\n",
    "!pip install git+https://github.com/openai/CLIP.git"
   ]
  },
  {
   "cell_type": "code",
   "execution_count": 2,
   "id": "5c7068e3",
   "metadata": {
    "execution": {
     "iopub.execute_input": "2024-03-25T02:38:02.768124Z",
     "iopub.status.busy": "2024-03-25T02:38:02.767809Z",
     "iopub.status.idle": "2024-03-25T02:38:09.680544Z",
     "shell.execute_reply": "2024-03-25T02:38:09.679612Z"
    },
    "papermill": {
     "duration": 6.919984,
     "end_time": "2024-03-25T02:38:09.682821",
     "exception": false,
     "start_time": "2024-03-25T02:38:02.762837",
     "status": "completed"
    },
    "tags": []
   },
   "outputs": [],
   "source": [
    "# Import module\n",
    "import os\n",
    "import clip\n",
    "import glob\n",
    "import torch\n",
    "import numpy as np\n",
    "from PIL import Image\n",
    "from tqdm import tqdm"
   ]
  },
  {
   "cell_type": "code",
   "execution_count": 3,
   "id": "3a2fe028",
   "metadata": {
    "execution": {
     "iopub.execute_input": "2024-03-25T02:38:09.692293Z",
     "iopub.status.busy": "2024-03-25T02:38:09.691896Z",
     "iopub.status.idle": "2024-03-25T02:38:32.982921Z",
     "shell.execute_reply": "2024-03-25T02:38:32.981982Z"
    },
    "papermill": {
     "duration": 23.298228,
     "end_time": "2024-03-25T02:38:32.985184",
     "exception": false,
     "start_time": "2024-03-25T02:38:09.686956",
     "status": "completed"
    },
    "tags": []
   },
   "outputs": [
    {
     "name": "stderr",
     "output_type": "stream",
     "text": [
      "30it [00:04,  6.43it/s]\n",
      "31it [00:03,  8.24it/s]\n",
      "30it [00:05,  5.88it/s]\n",
      "27it [00:05,  5.40it/s]\n",
      "27it [00:04,  5.74it/s]\n"
     ]
    }
   ],
   "source": [
    "all_keyframe_paths = {\n",
    "    'l32_extra':dict(),\n",
    "    'l33_extra':dict(),\n",
    "    'l34_extra':dict(),\n",
    "    'l35_extra':dict(),\n",
    "    'l36_extra':dict()\n",
    "}\n",
    "\n",
    "for data_part in sorted(all_keyframe_paths.keys()):\n",
    "    temp = data_part.split('_')[0].lower()\n",
    "    data_part_path = f'/kaggle/input/keyframe-extra-{temp}/Keyframes/{temp.upper()}_extra'\n",
    "    video_dirs = sorted(os.listdir(data_part_path))\n",
    "    video_ids = [video_dir.split('_')[-1] for video_dir in video_dirs]\n",
    "    for video_id, video_dir in tqdm(zip(video_ids, video_dirs)):\n",
    "        keyframe_paths = sorted(glob.glob(f'{data_part_path}/{video_dir}/*.jpg'))\n",
    "        all_keyframe_paths[data_part][video_id] = keyframe_paths"
   ]
  },
  {
   "cell_type": "code",
   "execution_count": 4,
   "id": "aea7c685",
   "metadata": {
    "execution": {
     "iopub.execute_input": "2024-03-25T02:38:33.018547Z",
     "iopub.status.busy": "2024-03-25T02:38:33.017938Z",
     "iopub.status.idle": "2024-03-25T02:38:57.468314Z",
     "shell.execute_reply": "2024-03-25T02:38:57.467527Z"
    },
    "papermill": {
     "duration": 24.469434,
     "end_time": "2024-03-25T02:38:57.470648",
     "exception": false,
     "start_time": "2024-03-25T02:38:33.001214",
     "status": "completed"
    },
    "tags": []
   },
   "outputs": [
    {
     "name": "stdout",
     "output_type": "stream",
     "text": [
      "cuda\n"
     ]
    },
    {
     "name": "stderr",
     "output_type": "stream",
     "text": [
      "100%|███████████████████████████████████████| 335M/335M [00:19<00:00, 18.1MiB/s]\n"
     ]
    }
   ],
   "source": [
    "device = \"cuda\" if torch.cuda.is_available() else \"cpu\"\n",
    "print(device)\n",
    "model, preprocess = clip.load(\"ViT-B/16\", device=device)"
   ]
  },
  {
   "cell_type": "code",
   "execution_count": 5,
   "id": "6734bf78",
   "metadata": {
    "execution": {
     "iopub.execute_input": "2024-03-25T02:38:57.523866Z",
     "iopub.status.busy": "2024-03-25T02:38:57.523534Z",
     "iopub.status.idle": "2024-03-25T03:50:37.577346Z",
     "shell.execute_reply": "2024-03-25T03:50:37.576436Z"
    },
    "papermill": {
     "duration": 4300.120832,
     "end_time": "2024-03-25T03:50:37.617118",
     "exception": false,
     "start_time": "2024-03-25T02:38:57.496286",
     "status": "completed"
    },
    "tags": []
   },
   "outputs": [
    {
     "name": "stderr",
     "output_type": "stream",
     "text": [
      "100%|██████████| 30/30 [15:06<00:00, 30.22s/it]\n",
      "100%|██████████| 31/31 [12:35<00:00, 24.37s/it]\n",
      "100%|██████████| 30/30 [15:41<00:00, 31.40s/it]\n",
      "100%|██████████| 27/27 [15:30<00:00, 34.45s/it]\n",
      "100%|██████████| 27/27 [12:45<00:00, 28.37s/it]\n"
     ]
    }
   ],
   "source": [
    "bs = 4\n",
    "save_dir = './CLIP_features'\n",
    "if not os.path.exists(save_dir):\n",
    "    os.mkdir(save_dir)\n",
    "\n",
    "for key, video_keyframe_paths in all_keyframe_paths.items():\n",
    "    video_ids = sorted(video_keyframe_paths.keys())\n",
    "    \n",
    "    if not os.path.exists(os.path.join(save_dir, key)):\n",
    "        os.mkdir(os.path.join(save_dir, key))\n",
    "    \n",
    "    for video_id in tqdm(video_ids):\n",
    "        video_feats = []\n",
    "        video_keyframe_path = video_keyframe_paths[video_id]\n",
    "        \n",
    "        for i in range(0, len(video_keyframe_path), bs):\n",
    "            # Support batchsize inferencing\n",
    "            images = []\n",
    "            image_paths = video_keyframe_path[i:i+bs]\n",
    "            for image_path in image_paths:\n",
    "                image = preprocess(Image.open(image_path)).unsqueeze(0)\n",
    "                images.append(image)\n",
    "            images = torch.cat(images).to(device)\n",
    "\n",
    "            with torch.no_grad():\n",
    "                image_feats = model.encode_image(images)\n",
    "            image_feats /= image_feats.norm(dim=-1, keepdim=True)\n",
    "\n",
    "            for b in range(image_feats.shape[0]):\n",
    "                video_feats.append(image_feats[b].detach().cpu().numpy().astype(np.float32).flatten())\n",
    "        np.save(f'{save_dir}/{key}/{video_id}.npy', video_feats)"
   ]
  }
 ],
 "metadata": {
  "kaggle": {
   "accelerator": "gpu",
   "dataSources": [
    {
     "datasetId": 4653415,
     "sourceId": 7919168,
     "sourceType": "datasetVersion"
    },
    {
     "datasetId": 4653417,
     "sourceId": 7919170,
     "sourceType": "datasetVersion"
    },
    {
     "datasetId": 4653418,
     "sourceId": 7919171,
     "sourceType": "datasetVersion"
    },
    {
     "datasetId": 4653413,
     "sourceId": 7919166,
     "sourceType": "datasetVersion"
    },
    {
     "datasetId": 4652627,
     "sourceId": 7917966,
     "sourceType": "datasetVersion"
    }
   ],
   "dockerImageVersionId": 30674,
   "isGpuEnabled": true,
   "isInternetEnabled": true,
   "language": "python",
   "sourceType": "notebook"
  },
  "kernelspec": {
   "display_name": "Python 3",
   "language": "python",
   "name": "python3"
  },
  "language_info": {
   "codemirror_mode": {
    "name": "ipython",
    "version": 3
   },
   "file_extension": ".py",
   "mimetype": "text/x-python",
   "name": "python",
   "nbconvert_exporter": "python",
   "pygments_lexer": "ipython3",
   "version": "3.10.13"
  },
  "papermill": {
   "default_parameters": {},
   "duration": 4378.029615,
   "end_time": "2024-03-25T03:50:39.941484",
   "environment_variables": {},
   "exception": null,
   "input_path": "__notebook__.ipynb",
   "output_path": "__notebook__.ipynb",
   "parameters": {},
   "start_time": "2024-03-25T02:37:41.911869",
   "version": "2.5.0"
  }
 },
 "nbformat": 4,
 "nbformat_minor": 5
}
