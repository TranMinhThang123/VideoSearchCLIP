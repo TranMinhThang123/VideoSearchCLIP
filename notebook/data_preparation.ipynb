{
 "cells": [
  {
   "cell_type": "code",
   "execution_count": 1,
   "metadata": {},
   "outputs": [],
   "source": [
    "import os\n",
    "import glob\n",
    "import json\n",
    "import pandas as pd"
   ]
  },
  {
   "cell_type": "code",
   "execution_count": 2,
   "metadata": {},
   "outputs": [],
   "source": [
    "root = 'C:/Users/naman/Documents/Code/Project/NCKH_2024'\n",
    "des_path = root + '/dict'"
   ]
  },
  {
   "cell_type": "code",
   "execution_count": 5,
   "metadata": {},
   "outputs": [],
   "source": [
    "data_root = root + '/data_image/Keyframes'\n",
    "scene_root = root + '/dict/SceneJSON'\n",
    "metadata_root = root + '/dict/metadata'\n",
    "map_keyframes_root = root + '/dict/map_keyframes'\n",
    "fps_path = root + '/dict/fps.json'\n",
    "\n",
    "with open(fps_path, 'r') as f:\n",
    "    fps_dict = json.load(f)"
   ]
  },
  {
   "cell_type": "code",
   "execution_count": 6,
   "metadata": {},
   "outputs": [],
   "source": [
    "scene_id2info = dict()\n",
    "\n",
    "for data_part in sorted(os.listdir(scene_root)):\n",
    "    data_part_path = f'{scene_root}/{data_part}'\n",
    "    scene_id2info[data_part] = dict()\n",
    "    for video_path in sorted(os.listdir(data_part_path)):\n",
    "        video_id = video_path.split('.')[0]\n",
    "        video_path_full = f'{data_part_path}/{video_path}'\n",
    "        video_fps = fps_dict[f'{data_part}_{video_id}']\n",
    "        \n",
    "        with open(video_path_full, 'r') as f:\n",
    "            video_scene_info = json.load(f)\n",
    "            \n",
    "        with open(f'{metadata_root}/{data_part}_{video_id}.json', 'r', encoding=\"utf8\") as f:\n",
    "            video_metadata = json.load(f)\n",
    "        \n",
    "        scene_id2info[data_part][video_id] = {\n",
    "            'video_metadata': video_metadata,\n",
    "            'lst_shot': dict()\n",
    "        }\n",
    "        \n",
    "        for i, item in enumerate(video_scene_info):\n",
    "            scene_id2info[data_part][video_id]['lst_shot'][str(i)] = {\n",
    "                'shot_range': item,\n",
    "                'shot_time': [item[0]/video_fps, item[1]/video_fps],\n",
    "                'lst_keyframe_paths': [],\n",
    "                'lst_keyframe_idxs': []\n",
    "            }"
   ]
  },
  {
   "cell_type": "code",
   "execution_count": 11,
   "metadata": {},
   "outputs": [],
   "source": [
    "global_index = 0\n",
    "id2img_fps = []\n",
    "\n",
    "for data_part in sorted(os.listdir(data_root)):\n",
    "    data_part_path = f'{data_root}/{data_part}'\n",
    "\n",
    "    for video_id in sorted(os.listdir(data_part_path)):\n",
    "        video_dir = f'{data_part_path}/{video_id}'\n",
    "        \n",
    "        temp_data_part = data_part.replace('_extra', '') # replace L01_extra -> L01\n",
    "        with open(f'{scene_root}/{temp_data_part}/{video_id}.json', 'r') as f:\n",
    "            video_scene_info = json.load(f)\n",
    "            \n",
    "        if 'extra' not in data_part:\n",
    "            mapper = pd.read_csv(f'{map_keyframes_root}/{data_part}_{video_id}.csv', index_col='n')\n",
    "        \n",
    "        scene_track = 0\n",
    "        for image_path in sorted(os.listdir(video_dir)):\n",
    "            frame_idx = int(image_path.split('.')[0])\n",
    "            \n",
    "            if 'extra' not in data_part:\n",
    "                frame_idx = int(mapper.loc[frame_idx]['frame_idx'])\n",
    "            \n",
    "            image_path = f'{video_dir}/{image_path}'.replace(f'{root}/data_image', '')\n",
    "            \n",
    "            while(len(video_scene_info) > 0 and frame_idx > video_scene_info[0][1]):\n",
    "                video_scene_info.pop(0)\n",
    "                scene_track += 1\n",
    "            \n",
    "            if len(video_scene_info) == 0:\n",
    "                continue\n",
    "            \n",
    "            info = {\n",
    "                \"image_path\": image_path,\n",
    "                \"scene_idx\": f'{temp_data_part}/{video_id}/lst_shot/{str(scene_track)}'\n",
    "            }\n",
    "            \n",
    "            scene_id2info[temp_data_part][video_id]['lst_shot'][str(scene_track)]['lst_keyframe_paths'].append(image_path)\n",
    "            scene_id2info[temp_data_part][video_id]['lst_shot'][str(scene_track)]['lst_keyframe_idxs'].append(global_index)\n",
    "            \n",
    "            id2img_fps.append(info)\n",
    "            \n",
    "            global_index += 1"
   ]
  },
  {
   "cell_type": "code",
   "execution_count": 12,
   "metadata": {},
   "outputs": [],
   "source": [
    "id2img_fps = dict(enumerate(id2img_fps))"
   ]
  },
  {
   "cell_type": "code",
   "execution_count": 13,
   "metadata": {},
   "outputs": [
    {
     "name": "stdout",
     "output_type": "stream",
     "text": [
      "Saved C:/Users/naman/Documents/Code/Project/NCKH_2024/dict\n",
      "Number of Index: 134685\n"
     ]
    }
   ],
   "source": [
    "with open(f'{des_path}/scene_id2info.json', 'w') as f:\n",
    "    f.write(json.dumps(scene_id2info))\n",
    "    \n",
    "with open(f'{des_path}/id2img_fps.json', 'w') as f:\n",
    "    f.write(json.dumps(id2img_fps))\n",
    "\n",
    "print(f'Saved {des_path}')\n",
    "print(f\"Number of Index: {len(id2img_fps)}\")"
   ]
  },
  {
   "cell_type": "code",
   "execution_count": null,
   "metadata": {},
   "outputs": [],
   "source": []
  }
 ],
 "metadata": {
  "kernelspec": {
   "display_name": "nckh_2024_env",
   "language": "python",
   "name": "python3"
  },
  "language_info": {
   "codemirror_mode": {
    "name": "ipython",
    "version": 3
   },
   "file_extension": ".py",
   "mimetype": "text/x-python",
   "name": "python",
   "nbconvert_exporter": "python",
   "pygments_lexer": "ipython3",
   "version": "3.9.19"
  }
 },
 "nbformat": 4,
 "nbformat_minor": 2
}
